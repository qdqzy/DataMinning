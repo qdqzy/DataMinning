{
 "cells": [
  {
   "cell_type": "code",
   "execution_count": 1,
   "metadata": {},
   "outputs": [],
   "source": [
    "import pandas as pd\n",
    "import numpy as np"
   ]
  },
  {
   "cell_type": "code",
   "execution_count": 2,
   "metadata": {
    "scrolled": true
   },
   "outputs": [],
   "source": [
    "weather = pd.read_csv('weather.csv')"
   ]
  },
  {
   "cell_type": "code",
   "execution_count": 3,
   "metadata": {},
   "outputs": [],
   "source": [
    "df = pd.DataFrame(weather)\n",
    "df = df.dropna()"
   ]
  },
  {
   "cell_type": "code",
   "execution_count": 4,
   "metadata": {
    "scrolled": true
   },
   "outputs": [
    {
     "data": {
      "text/html": [
       "<div>\n",
       "<style scoped>\n",
       "    .dataframe tbody tr th:only-of-type {\n",
       "        vertical-align: middle;\n",
       "    }\n",
       "\n",
       "    .dataframe tbody tr th {\n",
       "        vertical-align: top;\n",
       "    }\n",
       "\n",
       "    .dataframe thead th {\n",
       "        text-align: right;\n",
       "    }\n",
       "</style>\n",
       "<table border=\"1\" class=\"dataframe\">\n",
       "  <thead>\n",
       "    <tr style=\"text-align: right;\">\n",
       "      <th></th>\n",
       "      <th>1</th>\n",
       "      <th>三亚</th>\n",
       "      <th>2015/7/1</th>\n",
       "      <th>33</th>\n",
       "      <th>28</th>\n",
       "      <th>多云</th>\n",
       "      <th>西南风</th>\n",
       "      <th>3-4级</th>\n",
       "    </tr>\n",
       "  </thead>\n",
       "  <tbody>\n",
       "    <tr>\n",
       "      <th>0</th>\n",
       "      <td>2</td>\n",
       "      <td>三亚</td>\n",
       "      <td>2015/7/2</td>\n",
       "      <td>34</td>\n",
       "      <td>28</td>\n",
       "      <td>多云</td>\n",
       "      <td>西南风</td>\n",
       "      <td>3-4级</td>\n",
       "    </tr>\n",
       "    <tr>\n",
       "      <th>1</th>\n",
       "      <td>3</td>\n",
       "      <td>三亚</td>\n",
       "      <td>2015/7/3</td>\n",
       "      <td>34</td>\n",
       "      <td>28</td>\n",
       "      <td>多云</td>\n",
       "      <td>西南风</td>\n",
       "      <td>3-4级</td>\n",
       "    </tr>\n",
       "    <tr>\n",
       "      <th>2</th>\n",
       "      <td>4</td>\n",
       "      <td>三亚</td>\n",
       "      <td>2015/7/4</td>\n",
       "      <td>35</td>\n",
       "      <td>28</td>\n",
       "      <td>多云</td>\n",
       "      <td>西南风</td>\n",
       "      <td>3-4级</td>\n",
       "    </tr>\n",
       "    <tr>\n",
       "      <th>3</th>\n",
       "      <td>5</td>\n",
       "      <td>三亚</td>\n",
       "      <td>2015/7/5</td>\n",
       "      <td>33</td>\n",
       "      <td>27</td>\n",
       "      <td>雷雨~多云</td>\n",
       "      <td>西北风</td>\n",
       "      <td>3-4级</td>\n",
       "    </tr>\n",
       "    <tr>\n",
       "      <th>4</th>\n",
       "      <td>6</td>\n",
       "      <td>三亚</td>\n",
       "      <td>2015/7/6</td>\n",
       "      <td>33</td>\n",
       "      <td>28</td>\n",
       "      <td>雷雨~多云</td>\n",
       "      <td>西北风</td>\n",
       "      <td>3-4级</td>\n",
       "    </tr>\n",
       "  </tbody>\n",
       "</table>\n",
       "</div>"
      ],
      "text/plain": [
       "   1  三亚  2015/7/1  33  28     多云  西南风  3-4级\n",
       "0  2  三亚  2015/7/2  34  28     多云  西南风  3-4级\n",
       "1  3  三亚  2015/7/3  34  28     多云  西南风  3-4级\n",
       "2  4  三亚  2015/7/4  35  28     多云  西南风  3-4级\n",
       "3  5  三亚  2015/7/5  33  27  雷雨~多云  西北风  3-4级\n",
       "4  6  三亚  2015/7/6  33  28  雷雨~多云  西北风  3-4级"
      ]
     },
     "execution_count": 4,
     "metadata": {},
     "output_type": "execute_result"
    }
   ],
   "source": [
    "df.head()"
   ]
  },
  {
   "cell_type": "code",
   "execution_count": 5,
   "metadata": {},
   "outputs": [],
   "source": [
    "df.columns = ['No', 'city', 'date', 'temp_h', 'temp_l','weather','wind_direction','wind_power']"
   ]
  },
  {
   "cell_type": "code",
   "execution_count": 6,
   "metadata": {},
   "outputs": [
    {
     "data": {
      "text/html": [
       "<div>\n",
       "<style scoped>\n",
       "    .dataframe tbody tr th:only-of-type {\n",
       "        vertical-align: middle;\n",
       "    }\n",
       "\n",
       "    .dataframe tbody tr th {\n",
       "        vertical-align: top;\n",
       "    }\n",
       "\n",
       "    .dataframe thead th {\n",
       "        text-align: right;\n",
       "    }\n",
       "</style>\n",
       "<table border=\"1\" class=\"dataframe\">\n",
       "  <thead>\n",
       "    <tr style=\"text-align: right;\">\n",
       "      <th></th>\n",
       "      <th>No</th>\n",
       "      <th>city</th>\n",
       "      <th>date</th>\n",
       "      <th>temp_h</th>\n",
       "      <th>temp_l</th>\n",
       "      <th>weather</th>\n",
       "      <th>wind_direction</th>\n",
       "      <th>wind_power</th>\n",
       "    </tr>\n",
       "  </thead>\n",
       "  <tbody>\n",
       "    <tr>\n",
       "      <th>0</th>\n",
       "      <td>2</td>\n",
       "      <td>三亚</td>\n",
       "      <td>2015/7/2</td>\n",
       "      <td>34</td>\n",
       "      <td>28</td>\n",
       "      <td>多云</td>\n",
       "      <td>西南风</td>\n",
       "      <td>3-4级</td>\n",
       "    </tr>\n",
       "    <tr>\n",
       "      <th>1</th>\n",
       "      <td>3</td>\n",
       "      <td>三亚</td>\n",
       "      <td>2015/7/3</td>\n",
       "      <td>34</td>\n",
       "      <td>28</td>\n",
       "      <td>多云</td>\n",
       "      <td>西南风</td>\n",
       "      <td>3-4级</td>\n",
       "    </tr>\n",
       "    <tr>\n",
       "      <th>2</th>\n",
       "      <td>4</td>\n",
       "      <td>三亚</td>\n",
       "      <td>2015/7/4</td>\n",
       "      <td>35</td>\n",
       "      <td>28</td>\n",
       "      <td>多云</td>\n",
       "      <td>西南风</td>\n",
       "      <td>3-4级</td>\n",
       "    </tr>\n",
       "    <tr>\n",
       "      <th>3</th>\n",
       "      <td>5</td>\n",
       "      <td>三亚</td>\n",
       "      <td>2015/7/5</td>\n",
       "      <td>33</td>\n",
       "      <td>27</td>\n",
       "      <td>雷雨~多云</td>\n",
       "      <td>西北风</td>\n",
       "      <td>3-4级</td>\n",
       "    </tr>\n",
       "    <tr>\n",
       "      <th>4</th>\n",
       "      <td>6</td>\n",
       "      <td>三亚</td>\n",
       "      <td>2015/7/6</td>\n",
       "      <td>33</td>\n",
       "      <td>28</td>\n",
       "      <td>雷雨~多云</td>\n",
       "      <td>西北风</td>\n",
       "      <td>3-4级</td>\n",
       "    </tr>\n",
       "  </tbody>\n",
       "</table>\n",
       "</div>"
      ],
      "text/plain": [
       "   No city      date  temp_h  temp_l weather wind_direction wind_power\n",
       "0   2   三亚  2015/7/2      34      28      多云            西南风       3-4级\n",
       "1   3   三亚  2015/7/3      34      28      多云            西南风       3-4级\n",
       "2   4   三亚  2015/7/4      35      28      多云            西南风       3-4级\n",
       "3   5   三亚  2015/7/5      33      27   雷雨~多云            西北风       3-4级\n",
       "4   6   三亚  2015/7/6      33      28   雷雨~多云            西北风       3-4级"
      ]
     },
     "execution_count": 6,
     "metadata": {},
     "output_type": "execute_result"
    }
   ],
   "source": [
    "df_sanya = df.loc[df.city == '三亚']\n",
    "df_sanya.head()"
   ]
  },
  {
   "cell_type": "code",
   "execution_count": 7,
   "metadata": {
    "scrolled": true
   },
   "outputs": [
    {
     "name": "stdout",
     "output_type": "stream",
     "text": [
      "['多云', '雷雨~多云', '阵雨~多云', '多云~阵雨', '大到暴雨', '大到暴雨~阵雨', '多云~雷阵雨', '阵雨', '中雨~阵雨', '雷阵雨~多云', '雷阵雨', '大雨~阵雨', '中雨~多云', '大雨~雷阵雨', '大雨~大到暴雨', '大雨', '小到中雨', '小到中雨~多云', '阵雨~大到暴雨', '雷阵雨~阵雨', '中到大雨', '中到大雨~阵雨', '晴~多云', '多云~阴', '阴~多云', '阴', '多云~小雨', '小雨', '小雨~阴', '小雨~多云', '晴', '晴~阴', '雷阵雨~小雨', '雷阵雨转多云', '多云转阵雨', '暴雨', '中雨']\n"
     ]
    }
   ],
   "source": [
    "list = []\n",
    "for item in df_sanya['weather']:\n",
    "    if item not in list:\n",
    "        list.append(item)\n",
    "print(list)"
   ]
  },
  {
   "cell_type": "code",
   "execution_count": 8,
   "metadata": {},
   "outputs": [
    {
     "name": "stderr",
     "output_type": "stream",
     "text": [
      "D:\\Software\\Anaconda3\\lib\\site-packages\\ipykernel_launcher.py:44: SettingWithCopyWarning: \n",
      "A value is trying to be set on a copy of a slice from a DataFrame\n",
      "\n",
      "See the caveats in the documentation: http://pandas.pydata.org/pandas-docs/stable/indexing.html#indexing-view-versus-copy\n",
      "D:\\Software\\Anaconda3\\lib\\site-packages\\pandas\\core\\series.py:914: SettingWithCopyWarning: \n",
      "A value is trying to be set on a copy of a slice from a DataFrame\n",
      "\n",
      "See the caveats in the documentation: http://pandas.pydata.org/pandas-docs/stable/indexing.html#indexing-view-versus-copy\n",
      "  self.loc[key] = value\n",
      "D:\\Software\\Anaconda3\\lib\\site-packages\\IPython\\core\\interactiveshell.py:2963: SettingWithCopyWarning: \n",
      "A value is trying to be set on a copy of a slice from a DataFrame\n",
      "\n",
      "See the caveats in the documentation: http://pandas.pydata.org/pandas-docs/stable/indexing.html#indexing-view-versus-copy\n",
      "  exec(code_obj, self.user_global_ns, self.user_ns)\n"
     ]
    }
   ],
   "source": [
    "weather_conditon = {'多云': 1,\n",
    "         '雷雨~多云': 2,\n",
    "         '阵雨~多云': 3,\n",
    "         '多云~阵雨': 4,\n",
    "         '大到暴雨': 5,\n",
    "         '大到暴雨~阵雨': 6,\n",
    "         '多云~雷阵雨': 7,\n",
    "         '阵雨': 8,\n",
    "         '中雨~阵雨': 9,\n",
    "         '雷阵雨~多云': 10,\n",
    "         '雷阵雨': 11,\n",
    "         '大雨~阵雨': 12,\n",
    "         '中雨~多云': 13,\n",
    "         '大雨~雷阵雨': 14,\n",
    "         '大雨~大到暴雨': 15,\n",
    "         '大雨': 17,\n",
    "         '小到中雨':16,\n",
    "         '小到中雨~多云':18,\n",
    "         '阵雨~大到暴雨': 19,\n",
    "         '雷阵雨~阵雨': 20,\n",
    "         '中到大雨': 21,\n",
    "         '中到大雨~阵雨': 22,\n",
    "         '晴~多云': 23,\n",
    "         '多云~阴': 24,\n",
    "         '阴~多云': 25,\n",
    "         '阴': 26,\n",
    "         '多云~小雨': 27,\n",
    "         '小雨': 28,\n",
    "         '小雨~阴': 29,\n",
    "         '小雨~多云': 30,\n",
    "         '晴': 31,\n",
    "         '晴~阴': 32,\n",
    "         '雷阵雨~小雨': 33,\n",
    "         '雷阵雨转多云': 34,\n",
    "         '多云转阵雨': 35,\n",
    "         '暴雨': 36,\n",
    "         '中雨': 37}\n",
    "\n",
    "\n",
    "\n",
    "for each in df_sanya['weather']:\n",
    "    for eachone in weather_conditon.keys():\n",
    "        if eachone == each:\n",
    "            df_sanya['weather'][each] = weather_conditon[eachone]\n",
    "            \n"
   ]
  },
  {
   "cell_type": "code",
   "execution_count": 9,
   "metadata": {},
   "outputs": [],
   "source": [
    "import matplotlib.pyplot as plt"
   ]
  },
  {
   "cell_type": "code",
   "execution_count": 10,
   "metadata": {},
   "outputs": [],
   "source": [
    "plt.rcParams['font.sans-serif'] = 'SimHei'\n",
    "plt.rcParams['axes.unicode_minus'] = False"
   ]
  },
  {
   "cell_type": "code",
   "execution_count": 11,
   "metadata": {},
   "outputs": [
    {
     "ename": "NameError",
     "evalue": "name 'weather_condtion' is not defined",
     "output_type": "error",
     "traceback": [
      "\u001b[1;31m---------------------------------------------------------------------------\u001b[0m",
      "\u001b[1;31mNameError\u001b[0m                                 Traceback (most recent call last)",
      "\u001b[1;32m<ipython-input-11-d8d26b6210be>\u001b[0m in \u001b[0;36m<module>\u001b[1;34m()\u001b[0m\n\u001b[0;32m      1\u001b[0m \u001b[0mplt\u001b[0m\u001b[1;33m.\u001b[0m\u001b[0mfigure\u001b[0m\u001b[1;33m(\u001b[0m\u001b[0mfigsize\u001b[0m\u001b[1;33m=\u001b[0m\u001b[1;33m(\u001b[0m\u001b[1;36m20\u001b[0m\u001b[1;33m,\u001b[0m\u001b[1;36m20\u001b[0m\u001b[1;33m)\u001b[0m\u001b[1;33m)\u001b[0m\u001b[1;33m\u001b[0m\u001b[0m\n\u001b[1;32m----> 2\u001b[1;33m \u001b[0mlabel\u001b[0m \u001b[1;33m=\u001b[0m \u001b[0mweather_condtion\u001b[0m\u001b[1;33m.\u001b[0m\u001b[0mkeys\u001b[0m\u001b[1;33m(\u001b[0m\u001b[1;33m)\u001b[0m\u001b[1;33m\u001b[0m\u001b[0m\n\u001b[0m",
      "\u001b[1;31mNameError\u001b[0m: name 'weather_condtion' is not defined"
     ]
    },
    {
     "data": {
      "text/plain": [
       "<Figure size 1440x1440 with 0 Axes>"
      ]
     },
     "metadata": {},
     "output_type": "display_data"
    }
   ],
   "source": [
    "plt.figure(figsize=(20,20))\n",
    "label = weather_conditon.keys()"
   ]
  },
  {
   "cell_type": "code",
   "execution_count": null,
   "metadata": {},
   "outputs": [],
   "source": [
    "values = weather_condtion.values()"
   ]
  },
  {
   "cell_type": "code",
   "execution_count": null,
   "metadata": {},
   "outputs": [],
   "source": [
    "plt.pie(values,labels=label,radius=2);"
   ]
  },
  {
   "cell_type": "code",
   "execution_count": null,
   "metadata": {},
   "outputs": [],
   "source": [
    "temp_different= (df_sanya['temp_h'] - df_sanya['temp_l'])"
   ]
  },
  {
   "cell_type": "code",
   "execution_count": null,
   "metadata": {},
   "outputs": [],
   "source": [
    "temp_diff = temp_different.to_frame()"
   ]
  },
  {
   "cell_type": "code",
   "execution_count": null,
   "metadata": {},
   "outputs": [],
   "source": [
    "df_sanya.insert(5,'temp_diff',temp_diff)"
   ]
  },
  {
   "cell_type": "code",
   "execution_count": null,
   "metadata": {},
   "outputs": [],
   "source": [
    "df_sanya"
   ]
  },
  {
   "cell_type": "code",
   "execution_count": null,
   "metadata": {},
   "outputs": [],
   "source": [
    "x = df_sanya['date']"
   ]
  },
  {
   "cell_type": "code",
   "execution_count": null,
   "metadata": {},
   "outputs": [],
   "source": [
    "y2 = df_sanya['temp_h']\n",
    "y3 = df_sanya['temp_l']"
   ]
  },
  {
   "cell_type": "code",
   "execution_count": null,
   "metadata": {
    "scrolled": true
   },
   "outputs": [],
   "source": [
    "plt.figure(figsize=(20,10))\n",
    "plt.plot(\n",
    "            x, y2,'r-',\n",
    "            x,y3,'g-');\n",
    "plt.legend(['average','high','low'])\n",
    "plt.xlabel('date')\n",
    "plt.ylabel('temprature/℃')\n",
    "plt\n",
    "plt.xticks(range(0,510,5),rotation = 45);\n",
    "plt.savefig('temp.png')\n",
    "plt.show()"
   ]
  },
  {
   "cell_type": "code",
   "execution_count": null,
   "metadata": {},
   "outputs": [],
   "source": [
    "df_sanya['wind_power'].count()"
   ]
  },
  {
   "cell_type": "code",
   "execution_count": null,
   "metadata": {},
   "outputs": [],
   "source": [
    "alist = []\n",
    "for item in df_sanya['wind_power']:\n",
    "    if item not in list:\n",
    "        alist.append(item)\n",
    "print(alist)"
   ]
  },
  {
   "cell_type": "code",
   "execution_count": null,
   "metadata": {},
   "outputs": [],
   "source": [
    "df_sanya['wind_power']"
   ]
  },
  {
   "cell_type": "code",
   "execution_count": null,
   "metadata": {},
   "outputs": [],
   "source": [
    "\n",
    "df_sanya.replace('2级',2)\n",
    "df_sanya.replace('3级',3)\n",
    "df_sanya.replace('4级',4)\n",
    "df_sanya.replace('3-4级',3.5)"
   ]
  },
  {
   "cell_type": "code",
   "execution_count": null,
   "metadata": {},
   "outputs": [],
   "source": [
    "df_sanya = df_sanya.replace('1级',1)"
   ]
  },
  {
   "cell_type": "code",
   "execution_count": null,
   "metadata": {},
   "outputs": [],
   "source": [
    "df_sanya.head()"
   ]
  },
  {
   "cell_type": "code",
   "execution_count": null,
   "metadata": {},
   "outputs": [],
   "source": [
    "df_sanya = df_sanya.replace('2级',2)\n",
    "df_sanya"
   ]
  },
  {
   "cell_type": "code",
   "execution_count": null,
   "metadata": {},
   "outputs": [],
   "source": [
    "df_sanya = df_sanya.replace('3级',3)\n",
    "df_sanya"
   ]
  },
  {
   "cell_type": "code",
   "execution_count": null,
   "metadata": {},
   "outputs": [],
   "source": [
    "df_sanya = df_sanya.replace('4级',4)\n",
    "df_sanya"
   ]
  },
  {
   "cell_type": "code",
   "execution_count": null,
   "metadata": {},
   "outputs": [],
   "source": [
    "df_sanya = df_sanya.replace('3-4级',3.5)\n",
    "df_sanya"
   ]
  },
  {
   "cell_type": "code",
   "execution_count": null,
   "metadata": {},
   "outputs": [],
   "source": [
    "target = df_sanya['temp_aver']\n",
    "print(target)\n",
    "features = df_sanya[['date','weather','wind_direction','wind_power']]\n"
   ]
  },
  {
   "cell_type": "code",
   "execution_count": null,
   "metadata": {},
   "outputs": [],
   "source": [
    "from sklearn.preprocessing import MinMaxScaler\n",
    "from sklearn.cluster import KMeans\n",
    "scale = MinMaxScaler().fit(features)"
   ]
  },
  {
   "cell_type": "code",
   "execution_count": null,
   "metadata": {},
   "outputs": [],
   "source": []
  }
 ],
 "metadata": {
  "kernelspec": {
   "display_name": "Python 3",
   "language": "python",
   "name": "python3"
  },
  "language_info": {
   "codemirror_mode": {
    "name": "ipython",
    "version": 3
   },
   "file_extension": ".py",
   "mimetype": "text/x-python",
   "name": "python",
   "nbconvert_exporter": "python",
   "pygments_lexer": "ipython3",
   "version": "3.6.5"
  }
 },
 "nbformat": 4,
 "nbformat_minor": 2
}
